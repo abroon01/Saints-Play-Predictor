{
 "cells": [
  {
   "cell_type": "code",
   "execution_count": 20,
   "metadata": {},
   "outputs": [],
   "source": [
    "import pandas as pd\n",
    "import numpy as np\n",
    "import matplotlib.pyplot as plt\n",
    "import seaborn as sns\n",
    "import sklearn as sk\n",
    "from sklearn import neighbors\n",
    "from sklearn import preprocessing\n",
    "from sklearn.neighbors import KNeighborsClassifier\n",
    "from sklearn import metrics\n",
    "import scipy\n",
    "from sklearn.ensemble import GradientBoostingClassifier\n",
    "from sklearn.ensemble import RandomForestClassifier\n"
   ]
  },
  {
   "cell_type": "code",
   "execution_count": 3,
   "metadata": {},
   "outputs": [],
   "source": [
    "#importing the dataset\n",
    "saintsDF = pd.read_csv(\"saints.csv\")"
   ]
  },
  {
   "cell_type": "code",
   "execution_count": 16,
   "metadata": {},
   "outputs": [],
   "source": [
    "#spliting the data into train and test sets\n",
    "train = saintsDF.sample(frac=0.8, random_state = 24)\n",
    "test = saintsDF.drop(train.index)\n",
    "\n",
    "x_train = train[[\"Quarter\", \"Minute\",\"Second\", \"Down\", \"ToGo\", \"YardLine\"]]\n",
    "y_train = train[[\"PlayType\"]]\n",
    "x_test = test[[\"Quarter\", \"Minute\",\"Second\", \"Down\", \"ToGo\", \"YardLine\"]]\n",
    "y_test = test[[\"PlayType\"]]\n",
    "\n"
   ]
  },
  {
   "cell_type": "code",
   "execution_count": 36,
   "metadata": {
    "tags": []
   },
   "outputs": [
    {
     "output_type": "stream",
     "name": "stdout",
     "text": "KNeighborsClassifier(algorithm='auto', leaf_size=30, metric='minkowski',\n                     metric_params=None, n_jobs=None, n_neighbors=39, p=2,\n                     weights='uniform')\n"
    }
   ],
   "source": [
    "#making the knn model\n",
    "knn = KNeighborsClassifier(n_neighbors = 39)\n",
    "knn.fit(train[[\"Quarter\", \"Minute\", \"Down\", \"ToGo\", \"YardLine\"]], train[[\"PlayType\"]])\n",
    "print(knn)\n"
   ]
  },
  {
   "cell_type": "code",
   "execution_count": 37,
   "metadata": {},
   "outputs": [],
   "source": [
    "#predicting the plays for test dataset\n",
    "y_pred = knn.predict(test[[\"Quarter\", \"Minute\", \"Down\", \"ToGo\", \"YardLine\"]])"
   ]
  },
  {
   "cell_type": "code",
   "execution_count": 38,
   "metadata": {
    "tags": []
   },
   "outputs": [
    {
     "output_type": "stream",
     "name": "stdout",
     "text": "Accuracy: 0.5721925133689839\n"
    }
   ],
   "source": [
    "#model accuracy\n",
    "print(\"Accuracy:\", metrics.accuracy_score(test[[\"PlayType\"]],y_pred))"
   ]
  },
  {
   "cell_type": "code",
   "execution_count": 17,
   "metadata": {},
   "outputs": [
    {
     "output_type": "execute_result",
     "data": {
      "text/plain": "GradientBoostingClassifier(criterion='friedman_mse', init=None,\n                           learning_rate=0.1, loss='deviance', max_depth=3,\n                           max_features=None, max_leaf_nodes=None,\n                           min_impurity_decrease=0.0, min_impurity_split=None,\n                           min_samples_leaf=1, min_samples_split=2,\n                           min_weight_fraction_leaf=0.0, n_estimators=100,\n                           n_iter_no_change=None, presort='auto',\n                           random_state=None, subsample=1.0, tol=0.0001,\n                           validation_fraction=0.1, verbose=0,\n                           warm_start=False)"
     },
     "metadata": {},
     "execution_count": 17
    }
   ],
   "source": [
    "#making gradient boosting classifier model\n",
    "gbc = GradientBoostingClassifier()\n",
    "gbc.fit(x_train, y_train)"
   ]
  },
  {
   "cell_type": "code",
   "execution_count": 18,
   "metadata": {},
   "outputs": [],
   "source": [
    "gbc_predictions = gbc.predict(x_test)\n"
   ]
  },
  {
   "cell_type": "code",
   "execution_count": 19,
   "metadata": {},
   "outputs": [
    {
     "output_type": "execute_result",
     "data": {
      "text/plain": "0.6898395721925134"
     },
     "metadata": {},
     "execution_count": 19
    }
   ],
   "source": [
    "metrics.accuracy_score(y_test, gbc_predictions)"
   ]
  },
  {
   "cell_type": "code",
   "execution_count": 21,
   "metadata": {},
   "outputs": [
    {
     "output_type": "execute_result",
     "data": {
      "text/plain": "0.6737967914438503"
     },
     "metadata": {},
     "execution_count": 21
    }
   ],
   "source": [
    "# random forest classification\n",
    "random_forest = RandomForestClassifier(n_estimators=100)\n",
    "random_forest.fit(x_train,y_train)\n",
    "\n",
    "rf_predictions = random_forest.predict(x_test)\n",
    "\n",
    "metrics.accuracy_score(y_test, rf_predictions)\n",
    "\n"
   ]
  },
  {
   "cell_type": "code",
   "execution_count": null,
   "metadata": {},
   "outputs": [],
   "source": []
  }
 ],
 "metadata": {
  "language_info": {
   "codemirror_mode": {
    "name": "ipython",
    "version": 3
   },
   "file_extension": ".py",
   "mimetype": "text/x-python",
   "name": "python",
   "nbconvert_exporter": "python",
   "pygments_lexer": "ipython3",
   "version": "3.7.3-final"
  },
  "orig_nbformat": 2,
  "kernelspec": {
   "name": "python3",
   "display_name": "Python 3"
  }
 },
 "nbformat": 4,
 "nbformat_minor": 2
}